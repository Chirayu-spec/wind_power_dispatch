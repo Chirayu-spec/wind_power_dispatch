{
 "cells": [
  {
   "cell_type": "code",
   "execution_count": 1,
   "id": "cf5633d1",
   "metadata": {},
   "outputs": [
    {
     "name": "stdout",
     "output_type": "stream",
     "text": [
      "Requirement already satisfied: wget in c:\\users\\chirayu\\anaconda3\\lib\\site-packages (3.2)\n"
     ]
    }
   ],
   "source": [
    "!pip install wget"
   ]
  },
  {
   "cell_type": "code",
   "execution_count": 2,
   "id": "c87bb25b",
   "metadata": {},
   "outputs": [],
   "source": [
    "import wget\n",
    "url=\"https://s3.amazonaws.com/coderbyteprojectattachments/biourja-efzrr-y7i38ed9-input.csv\"\n",
    "file=wget.download(url)"
   ]
  },
  {
   "cell_type": "code",
   "execution_count": 3,
   "id": "06c9548f",
   "metadata": {},
   "outputs": [],
   "source": [
    "import pandas as pd\n",
    "df=pd.read_csv(file)\n",
    "df.head()\n",
    "df1=pd.read_csv(file)"
   ]
  },
  {
   "cell_type": "code",
   "execution_count": 4,
   "id": "a4a5a101",
   "metadata": {},
   "outputs": [
    {
     "data": {
      "text/html": [
       "<div>\n",
       "<style scoped>\n",
       "    .dataframe tbody tr th:only-of-type {\n",
       "        vertical-align: middle;\n",
       "    }\n",
       "\n",
       "    .dataframe tbody tr th {\n",
       "        vertical-align: top;\n",
       "    }\n",
       "\n",
       "    .dataframe thead th {\n",
       "        text-align: right;\n",
       "    }\n",
       "</style>\n",
       "<table border=\"1\" class=\"dataframe\">\n",
       "  <thead>\n",
       "    <tr style=\"text-align: right;\">\n",
       "      <th></th>\n",
       "      <th>Plant_Name</th>\n",
       "      <th>Forecast</th>\n",
       "      <th>Capacity</th>\n",
       "    </tr>\n",
       "  </thead>\n",
       "  <tbody>\n",
       "    <tr>\n",
       "      <th>0</th>\n",
       "      <td>E</td>\n",
       "      <td>45.4</td>\n",
       "      <td>100</td>\n",
       "    </tr>\n",
       "    <tr>\n",
       "      <th>1</th>\n",
       "      <td>E</td>\n",
       "      <td>31.2</td>\n",
       "      <td>150</td>\n",
       "    </tr>\n",
       "    <tr>\n",
       "      <th>2</th>\n",
       "      <td>E</td>\n",
       "      <td>8.5</td>\n",
       "      <td>50</td>\n",
       "    </tr>\n",
       "    <tr>\n",
       "      <th>3</th>\n",
       "      <td>E</td>\n",
       "      <td>88.2</td>\n",
       "      <td>100</td>\n",
       "    </tr>\n",
       "    <tr>\n",
       "      <th>4</th>\n",
       "      <td>E</td>\n",
       "      <td>98.4</td>\n",
       "      <td>150</td>\n",
       "    </tr>\n",
       "  </tbody>\n",
       "</table>\n",
       "</div>"
      ],
      "text/plain": [
       "  Plant_Name  Forecast  Capacity\n",
       "0          E      45.4       100\n",
       "1          E      31.2       150\n",
       "2          E       8.5        50\n",
       "3          E      88.2       100\n",
       "4          E      98.4       150"
      ]
     },
     "execution_count": 4,
     "metadata": {},
     "output_type": "execute_result"
    }
   ],
   "source": [
    "for i,x in enumerate(df['Plant_Name']):\n",
    "  df.iloc[i,df.columns.get_loc('Plant_Name')] = x[0]\n",
    "df.head()"
   ]
  },
  {
   "cell_type": "code",
   "execution_count": 5,
   "id": "7dfa498e",
   "metadata": {},
   "outputs": [
    {
     "data": {
      "text/html": [
       "<div>\n",
       "<style scoped>\n",
       "    .dataframe tbody tr th:only-of-type {\n",
       "        vertical-align: middle;\n",
       "    }\n",
       "\n",
       "    .dataframe tbody tr th {\n",
       "        vertical-align: top;\n",
       "    }\n",
       "\n",
       "    .dataframe thead th {\n",
       "        text-align: right;\n",
       "    }\n",
       "</style>\n",
       "<table border=\"1\" class=\"dataframe\">\n",
       "  <thead>\n",
       "    <tr style=\"text-align: right;\">\n",
       "      <th></th>\n",
       "      <th>Plant_Name</th>\n",
       "      <th>Forecast</th>\n",
       "      <th>Capacity</th>\n",
       "    </tr>\n",
       "  </thead>\n",
       "  <tbody>\n",
       "    <tr>\n",
       "      <th>0</th>\n",
       "      <td>E</td>\n",
       "      <td>2430.4</td>\n",
       "      <td>3600</td>\n",
       "    </tr>\n",
       "    <tr>\n",
       "      <th>1</th>\n",
       "      <td>N</td>\n",
       "      <td>3234.4</td>\n",
       "      <td>5800</td>\n",
       "    </tr>\n",
       "    <tr>\n",
       "      <th>2</th>\n",
       "      <td>S</td>\n",
       "      <td>5686.3</td>\n",
       "      <td>7950</td>\n",
       "    </tr>\n",
       "    <tr>\n",
       "      <th>3</th>\n",
       "      <td>W</td>\n",
       "      <td>1035.9</td>\n",
       "      <td>2100</td>\n",
       "    </tr>\n",
       "  </tbody>\n",
       "</table>\n",
       "</div>"
      ],
      "text/plain": [
       "  Plant_Name  Forecast  Capacity\n",
       "0          E    2430.4      3600\n",
       "1          N    3234.4      5800\n",
       "2          S    5686.3      7950\n",
       "3          W    1035.9      2100"
      ]
     },
     "execution_count": 5,
     "metadata": {},
     "output_type": "execute_result"
    }
   ],
   "source": [
    "a=df.groupby('Plant_Name')\n",
    "total_Forecast=a['Forecast'].sum()\n",
    "total_Capacity=a['Capacity'].sum()\n",
    "grouped = df.groupby('Plant_Name').agg({'Forecast': 'sum', 'Capacity': 'sum'}).reset_index()\n",
    "grouped.head()"
   ]
  },
  {
   "cell_type": "code",
   "execution_count": 6,
   "id": "e56ee773",
   "metadata": {},
   "outputs": [
    {
     "name": "stdout",
     "output_type": "stream",
     "text": [
      "12387.0\n"
     ]
    }
   ],
   "source": [
    "total_state_forecast= df['Forecast'].sum()\n",
    "print(total_state_forecast)"
   ]
  },
  {
   "cell_type": "code",
   "execution_count": 7,
   "id": "8046c7d3",
   "metadata": {},
   "outputs": [],
   "source": [
    "weight=(df1.Forecast/df1.Capacity)\n",
    "df1[\"Weight\"]=weight"
   ]
  },
  {
   "cell_type": "code",
   "execution_count": 8,
   "id": "234f518f",
   "metadata": {},
   "outputs": [
    {
     "data": {
      "text/html": [
       "<div>\n",
       "<style scoped>\n",
       "    .dataframe tbody tr th:only-of-type {\n",
       "        vertical-align: middle;\n",
       "    }\n",
       "\n",
       "    .dataframe tbody tr th {\n",
       "        vertical-align: top;\n",
       "    }\n",
       "\n",
       "    .dataframe thead th {\n",
       "        text-align: right;\n",
       "    }\n",
       "</style>\n",
       "<table border=\"1\" class=\"dataframe\">\n",
       "  <thead>\n",
       "    <tr style=\"text-align: right;\">\n",
       "      <th></th>\n",
       "      <th>Plant_Name</th>\n",
       "      <th>Forecast</th>\n",
       "      <th>Capacity</th>\n",
       "      <th>Weight</th>\n",
       "    </tr>\n",
       "  </thead>\n",
       "  <tbody>\n",
       "    <tr>\n",
       "      <th>0</th>\n",
       "      <td>E1</td>\n",
       "      <td>45.4</td>\n",
       "      <td>100</td>\n",
       "      <td>0.454</td>\n",
       "    </tr>\n",
       "    <tr>\n",
       "      <th>1</th>\n",
       "      <td>E2</td>\n",
       "      <td>31.2</td>\n",
       "      <td>150</td>\n",
       "      <td>0.208</td>\n",
       "    </tr>\n",
       "    <tr>\n",
       "      <th>2</th>\n",
       "      <td>E3</td>\n",
       "      <td>8.5</td>\n",
       "      <td>50</td>\n",
       "      <td>0.170</td>\n",
       "    </tr>\n",
       "    <tr>\n",
       "      <th>3</th>\n",
       "      <td>E4</td>\n",
       "      <td>88.2</td>\n",
       "      <td>100</td>\n",
       "      <td>0.882</td>\n",
       "    </tr>\n",
       "    <tr>\n",
       "      <th>4</th>\n",
       "      <td>E5</td>\n",
       "      <td>98.4</td>\n",
       "      <td>150</td>\n",
       "      <td>0.656</td>\n",
       "    </tr>\n",
       "  </tbody>\n",
       "</table>\n",
       "</div>"
      ],
      "text/plain": [
       "  Plant_Name  Forecast  Capacity  Weight\n",
       "0         E1      45.4       100   0.454\n",
       "1         E2      31.2       150   0.208\n",
       "2         E3       8.5        50   0.170\n",
       "3         E4      88.2       100   0.882\n",
       "4         E5      98.4       150   0.656"
      ]
     },
     "execution_count": 8,
     "metadata": {},
     "output_type": "execute_result"
    }
   ],
   "source": [
    "df1.head()"
   ]
  },
  {
   "cell_type": "code",
   "execution_count": 9,
   "id": "2503baf5",
   "metadata": {},
   "outputs": [],
   "source": [
    "norm_weight = df1['Weight']/(df1['Weight'].sum())\n",
    "df1['Norm_Weight']=norm_weight"
   ]
  },
  {
   "cell_type": "code",
   "execution_count": 10,
   "id": "3541b287",
   "metadata": {},
   "outputs": [
    {
     "data": {
      "text/html": [
       "<div>\n",
       "<style scoped>\n",
       "    .dataframe tbody tr th:only-of-type {\n",
       "        vertical-align: middle;\n",
       "    }\n",
       "\n",
       "    .dataframe tbody tr th {\n",
       "        vertical-align: top;\n",
       "    }\n",
       "\n",
       "    .dataframe thead th {\n",
       "        text-align: right;\n",
       "    }\n",
       "</style>\n",
       "<table border=\"1\" class=\"dataframe\">\n",
       "  <thead>\n",
       "    <tr style=\"text-align: right;\">\n",
       "      <th></th>\n",
       "      <th>Plant_Name</th>\n",
       "      <th>Forecast</th>\n",
       "      <th>Capacity</th>\n",
       "      <th>Weight</th>\n",
       "      <th>Norm_Weight</th>\n",
       "    </tr>\n",
       "  </thead>\n",
       "  <tbody>\n",
       "    <tr>\n",
       "      <th>0</th>\n",
       "      <td>E1</td>\n",
       "      <td>45.4</td>\n",
       "      <td>100</td>\n",
       "      <td>0.454</td>\n",
       "      <td>0.007625</td>\n",
       "    </tr>\n",
       "    <tr>\n",
       "      <th>1</th>\n",
       "      <td>E2</td>\n",
       "      <td>31.2</td>\n",
       "      <td>150</td>\n",
       "      <td>0.208</td>\n",
       "      <td>0.003493</td>\n",
       "    </tr>\n",
       "    <tr>\n",
       "      <th>2</th>\n",
       "      <td>E3</td>\n",
       "      <td>8.5</td>\n",
       "      <td>50</td>\n",
       "      <td>0.170</td>\n",
       "      <td>0.002855</td>\n",
       "    </tr>\n",
       "    <tr>\n",
       "      <th>3</th>\n",
       "      <td>E4</td>\n",
       "      <td>88.2</td>\n",
       "      <td>100</td>\n",
       "      <td>0.882</td>\n",
       "      <td>0.014812</td>\n",
       "    </tr>\n",
       "    <tr>\n",
       "      <th>4</th>\n",
       "      <td>E5</td>\n",
       "      <td>98.4</td>\n",
       "      <td>150</td>\n",
       "      <td>0.656</td>\n",
       "      <td>0.011017</td>\n",
       "    </tr>\n",
       "  </tbody>\n",
       "</table>\n",
       "</div>"
      ],
      "text/plain": [
       "  Plant_Name  Forecast  Capacity  Weight  Norm_Weight\n",
       "0         E1      45.4       100   0.454     0.007625\n",
       "1         E2      31.2       150   0.208     0.003493\n",
       "2         E3       8.5        50   0.170     0.002855\n",
       "3         E4      88.2       100   0.882     0.014812\n",
       "4         E5      98.4       150   0.656     0.011017"
      ]
     },
     "execution_count": 10,
     "metadata": {},
     "output_type": "execute_result"
    }
   ],
   "source": [
    "df1.head()"
   ]
  },
  {
   "cell_type": "code",
   "execution_count": 36,
   "id": "ccf0a0f2",
   "metadata": {},
   "outputs": [],
   "source": [
    "new_forecast = total_state_forecast*df1['Norm_Weight']\n",
    "df1['new_forecast']=new_forecast\n",
    "for index, row in df1.iterrows():\n",
    "    if row['new_forecast'] <= row['Capacity']:\n",
    "        df1.at[index, 'new_forecast'] = row['new_forecast']\n",
    "    else:\n",
    "        df1.at[index, 'new_forecast'] = row['Capacity']"
   ]
  },
  {
   "cell_type": "code",
   "execution_count": 35,
   "id": "a5bdb666",
   "metadata": {},
   "outputs": [
    {
     "data": {
      "text/html": [
       "<div>\n",
       "<style scoped>\n",
       "    .dataframe tbody tr th:only-of-type {\n",
       "        vertical-align: middle;\n",
       "    }\n",
       "\n",
       "    .dataframe tbody tr th {\n",
       "        vertical-align: top;\n",
       "    }\n",
       "\n",
       "    .dataframe thead th {\n",
       "        text-align: right;\n",
       "    }\n",
       "</style>\n",
       "<table border=\"1\" class=\"dataframe\">\n",
       "  <thead>\n",
       "    <tr style=\"text-align: right;\">\n",
       "      <th></th>\n",
       "      <th>Plant_Name</th>\n",
       "      <th>Forecast</th>\n",
       "      <th>Capacity</th>\n",
       "      <th>Weight</th>\n",
       "      <th>Norm_Weight</th>\n",
       "      <th>new_forecast</th>\n",
       "      <th>adjusted_forecast</th>\n",
       "    </tr>\n",
       "  </thead>\n",
       "  <tbody>\n",
       "    <tr>\n",
       "      <th>0</th>\n",
       "      <td>E1</td>\n",
       "      <td>45.4</td>\n",
       "      <td>100</td>\n",
       "      <td>0.454</td>\n",
       "      <td>0.007625</td>\n",
       "      <td>94.444845</td>\n",
       "      <td>103.338514</td>\n",
       "    </tr>\n",
       "    <tr>\n",
       "      <th>1</th>\n",
       "      <td>E2</td>\n",
       "      <td>31.2</td>\n",
       "      <td>150</td>\n",
       "      <td>0.208</td>\n",
       "      <td>0.003493</td>\n",
       "      <td>43.269885</td>\n",
       "      <td>47.344518</td>\n",
       "    </tr>\n",
       "    <tr>\n",
       "      <th>2</th>\n",
       "      <td>E3</td>\n",
       "      <td>8.5</td>\n",
       "      <td>50</td>\n",
       "      <td>0.170</td>\n",
       "      <td>0.002855</td>\n",
       "      <td>35.364810</td>\n",
       "      <td>38.695038</td>\n",
       "    </tr>\n",
       "    <tr>\n",
       "      <th>3</th>\n",
       "      <td>E4</td>\n",
       "      <td>88.2</td>\n",
       "      <td>100</td>\n",
       "      <td>0.882</td>\n",
       "      <td>0.014812</td>\n",
       "      <td>100.000000</td>\n",
       "      <td>109.416786</td>\n",
       "    </tr>\n",
       "    <tr>\n",
       "      <th>4</th>\n",
       "      <td>E5</td>\n",
       "      <td>98.4</td>\n",
       "      <td>150</td>\n",
       "      <td>0.656</td>\n",
       "      <td>0.011017</td>\n",
       "      <td>136.466561</td>\n",
       "      <td>149.317325</td>\n",
       "    </tr>\n",
       "  </tbody>\n",
       "</table>\n",
       "</div>"
      ],
      "text/plain": [
       "  Plant_Name  Forecast  Capacity  Weight  Norm_Weight  new_forecast  \\\n",
       "0         E1      45.4       100   0.454     0.007625     94.444845   \n",
       "1         E2      31.2       150   0.208     0.003493     43.269885   \n",
       "2         E3       8.5        50   0.170     0.002855     35.364810   \n",
       "3         E4      88.2       100   0.882     0.014812    100.000000   \n",
       "4         E5      98.4       150   0.656     0.011017    136.466561   \n",
       "\n",
       "   adjusted_forecast  \n",
       "0         103.338514  \n",
       "1          47.344518  \n",
       "2          38.695038  \n",
       "3         109.416786  \n",
       "4         149.317325  "
      ]
     },
     "execution_count": 35,
     "metadata": {},
     "output_type": "execute_result"
    }
   ],
   "source": [
    "df1.head()"
   ]
  },
  {
   "cell_type": "code",
   "execution_count": 33,
   "id": "925fa11d",
   "metadata": {},
   "outputs": [],
   "source": [
    "totalnew_forecast=df1['new_forecast'].sum()\n",
    "adjustment= 12000/totalnew_forecast\n",
    "adjusted_forecast=df1['new_forecast']*adjustment\n",
    "df1['adjusted_forecast']=adjusted_forecast"
   ]
  },
  {
   "cell_type": "code",
   "execution_count": 31,
   "id": "e2929dd4",
   "metadata": {},
   "outputs": [],
   "source": []
  },
  {
   "cell_type": "code",
   "execution_count": 34,
   "id": "5b672f22",
   "metadata": {},
   "outputs": [
    {
     "data": {
      "text/plain": [
       "12000.000000000004"
      ]
     },
     "execution_count": 34,
     "metadata": {},
     "output_type": "execute_result"
    }
   ],
   "source": [
    "df1['adjusted_forecast'].sum()"
   ]
  },
  {
   "cell_type": "code",
   "execution_count": null,
   "id": "e16e93a4",
   "metadata": {},
   "outputs": [],
   "source": []
  }
 ],
 "metadata": {
  "kernelspec": {
   "display_name": "Python 3",
   "language": "python",
   "name": "python3"
  },
  "language_info": {
   "codemirror_mode": {
    "name": "ipython",
    "version": 3
   },
   "file_extension": ".py",
   "mimetype": "text/x-python",
   "name": "python",
   "nbconvert_exporter": "python",
   "pygments_lexer": "ipython3",
   "version": "3.8.8"
  }
 },
 "nbformat": 4,
 "nbformat_minor": 5
}
